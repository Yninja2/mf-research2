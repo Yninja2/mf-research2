{
  "nbformat": 4,
  "nbformat_minor": 0,
  "metadata": {
    "colab": {
      "provenance": []
    },
    "kernelspec": {
      "name": "python3",
      "display_name": "Python 3"
    },
    "language_info": {
      "name": "python"
    }
  },
  "cells": [
    {
      "cell_type": "code",
      "execution_count": null,
      "metadata": {
        "id": "QSniU04TdA3v"
      },
      "outputs": [],
      "source": [
        "from google.colab import userdata\n",
        "import os\n",
        "os.environ[\"OPENAI_API_KEY\"] = userdata.get('openai')"
      ]
    },
    {
      "cell_type": "code",
      "source": [
        "!pip install openai"
      ],
      "metadata": {
        "colab": {
          "base_uri": "https://localhost:8080/"
        },
        "collapsed": true,
        "id": "BGxa27XIdTn8",
        "outputId": "1455de0d-336d-48ad-a753-d5b32c2541f3"
      },
      "execution_count": null,
      "outputs": [
        {
          "output_type": "stream",
          "name": "stdout",
          "text": [
            "Requirement already satisfied: openai in /usr/local/lib/python3.10/dist-packages (1.37.0)\n",
            "Requirement already satisfied: anyio<5,>=3.5.0 in /usr/local/lib/python3.10/dist-packages (from openai) (3.7.1)\n",
            "Requirement already satisfied: distro<2,>=1.7.0 in /usr/lib/python3/dist-packages (from openai) (1.7.0)\n",
            "Requirement already satisfied: httpx<1,>=0.23.0 in /usr/local/lib/python3.10/dist-packages (from openai) (0.27.0)\n",
            "Requirement already satisfied: pydantic<3,>=1.9.0 in /usr/local/lib/python3.10/dist-packages (from openai) (2.8.2)\n",
            "Requirement already satisfied: sniffio in /usr/local/lib/python3.10/dist-packages (from openai) (1.3.1)\n",
            "Requirement already satisfied: tqdm>4 in /usr/local/lib/python3.10/dist-packages (from openai) (4.66.4)\n",
            "Requirement already satisfied: typing-extensions<5,>=4.7 in /usr/local/lib/python3.10/dist-packages (from openai) (4.12.2)\n",
            "Requirement already satisfied: idna>=2.8 in /usr/local/lib/python3.10/dist-packages (from anyio<5,>=3.5.0->openai) (3.7)\n",
            "Requirement already satisfied: exceptiongroup in /usr/local/lib/python3.10/dist-packages (from anyio<5,>=3.5.0->openai) (1.2.2)\n",
            "Requirement already satisfied: certifi in /usr/local/lib/python3.10/dist-packages (from httpx<1,>=0.23.0->openai) (2024.7.4)\n",
            "Requirement already satisfied: httpcore==1.* in /usr/local/lib/python3.10/dist-packages (from httpx<1,>=0.23.0->openai) (1.0.5)\n",
            "Requirement already satisfied: h11<0.15,>=0.13 in /usr/local/lib/python3.10/dist-packages (from httpcore==1.*->httpx<1,>=0.23.0->openai) (0.14.0)\n",
            "Requirement already satisfied: annotated-types>=0.4.0 in /usr/local/lib/python3.10/dist-packages (from pydantic<3,>=1.9.0->openai) (0.7.0)\n",
            "Requirement already satisfied: pydantic-core==2.20.1 in /usr/local/lib/python3.10/dist-packages (from pydantic<3,>=1.9.0->openai) (2.20.1)\n"
          ]
        }
      ]
    },
    {
      "cell_type": "code",
      "source": [
        "import openai"
      ],
      "metadata": {
        "id": "vkZkIYKEdXic"
      },
      "execution_count": null,
      "outputs": []
    },
    {
      "cell_type": "code",
      "source": [
        "def get_missing_information(question):\n",
        "    response = openai.chat.completions.create(\n",
        "        model=\"gpt-3.5-turbo\",  # Update to a suitable chat model\n",
        "        messages=[\n",
        "            {\"role\": \"system\", \"content\": \"You are a helpful assistant.\"},\n",
        "            {\"role\": \"user\", \"content\": f\"次の質問に対して不足している情報を推定してpythonのリスト形式で回答してください: {question}\\n\\n不足している情報:\"}\n",
        "        ],\n",
        "        max_tokens=500,\n",
        "        n=1,\n",
        "        stop=None,\n",
        "        temperature=0.5,\n",
        "    )\n",
        "\n",
        "    missing_info = response.choices[0].message.content.strip()  # Extract from message content\n",
        "    return missing_info"
      ],
      "metadata": {
        "id": "f9OXcZl1eSHj"
      },
      "execution_count": null,
      "outputs": []
    },
    {
      "cell_type": "code",
      "source": [
        "# テスト\n",
        "question = \"生後1か月の赤ちゃんが全然寝ない\"\n",
        "missing_info = get_missing_information(question)\n",
        "print(f\"不足している情報: {missing_info}\")"
      ],
      "metadata": {
        "colab": {
          "base_uri": "https://localhost:8080/"
        },
        "id": "1sdO7XJEeYvg",
        "outputId": "6d198a2e-a810-4c3f-b386-f58b463bf4cb"
      },
      "execution_count": null,
      "outputs": [
        {
          "output_type": "stream",
          "name": "stdout",
          "text": [
            "不足している情報: 赤ちゃんが全然寝ない理由は様々な要因が考えられます。具体的な情報が不足していますが、以下のような情報が必要かもしれません：\n",
            "\n",
            "1. 赤ちゃんの日中の活動や環境\n",
            "2. 寝かしつける方法や環境\n",
            "3. 赤ちゃんの健康状態や機嫌\n",
            "4. 授乳やミルクの摂取量\n",
            "5. おむつの交換頻度\n",
            "6. 赤ちゃんの泣き声や様子\n",
            "7. 赤ちゃんの睡眠サイクルやリズム\n",
            "\n",
            "これらの情報が揃うと、より具体的なアドバイスや解決策を提供することができます。\n"
          ]
        }
      ]
    },
    {
      "cell_type": "code",
      "source": [],
      "metadata": {
        "id": "ERYN5evkhQll"
      },
      "execution_count": null,
      "outputs": []
    },
    {
      "cell_type": "code",
      "source": [],
      "metadata": {
        "id": "lZMbtqdDFpkB"
      },
      "execution_count": null,
      "outputs": []
    },
    {
      "cell_type": "code",
      "source": [
        "system_prompt = \"\"\"\n",
        "## 回答ルール\n",
        "- ユーザーが提供する文章の言語と話題を分析し、JSON形式で返却してください。\n",
        "- 話題は配列形式とし、話題が単一の場合は要素が一つの配列とし、話題が複数ある場合は要素が複数の配列としてください。\n",
        "- 言語の分析の信頼度と話題の分析の信頼度をそれぞれ含めてください。\n",
        "\n",
        "## 期待されるJSONレスポンス\n",
        "{\n",
        "  \"language\": \"English\",\n",
        "  \"language_confidence\": 0.5,\n",
        "  \"topics\": [\n",
        "    {\"topic\": \"Environmental_Issues\", \"topic_confidence\": 0.8},\n",
        "    {\"topic\": \"Science_and_Technology\", \"topic_confidence\": 0.65}\n",
        "  ]\n",
        "}\n",
        "\"\"\""
      ],
      "metadata": {
        "id": "8TXjhDb4Fpcu"
      },
      "execution_count": null,
      "outputs": []
    },
    {
      "cell_type": "code",
      "source": [
        "system_prompt = \"\"\"\n",
        "## 回答ルール\n",
        "- ユーザーが提供する文章の不足してる情報を分析し、JSON形式で返却してください。\n",
        "- 不足してる情報は配列形式とし、３つ答えてください。不足してる情報は配列としてください。\n",
        "- 分析の信頼度を含めてください。\n",
        "\n",
        "## 期待されるJSONレスポンス\n",
        "{\n",
        "  \"lucked_info\": [\n",
        "    {\"lucked_info\": \"その人の英語能力\", \"topic_confidence\": 0.8},\n",
        "    {\"lucked_info\": \"プログラム能力\", \"topic_confidence\": 0.65}\n",
        "  ]\n",
        "}\n",
        "\"\"\""
      ],
      "metadata": {
        "id": "HRtcW3YjHWBY"
      },
      "execution_count": null,
      "outputs": []
    },
    {
      "cell_type": "code",
      "source": [
        "response = openai.chat.completions.create(\n",
        "    model=\"gpt-3.5-turbo\",\n",
        "    temperature=0.0,\n",
        "    messages=[\n",
        "        {\"role\": \"system\", \"content\": system_prompt},\n",
        "        {\"role\": \"user\", \"content\": question},\n",
        "    ],\n",
        "    response_format={\"type\": \"json_object\"} # こちらを指定する\n",
        ")"
      ],
      "metadata": {
        "id": "LQ1vQWGsFpUX"
      },
      "execution_count": null,
      "outputs": []
    },
    {
      "cell_type": "code",
      "source": [
        "answer = response.choices[0].message.content\n",
        "print(answer)"
      ],
      "metadata": {
        "colab": {
          "base_uri": "https://localhost:8080/"
        },
        "id": "k7rN1vILF1kj",
        "outputId": "87f659de-49b8-4158-9b18-7873df46cd18"
      },
      "execution_count": null,
      "outputs": [
        {
          "output_type": "stream",
          "name": "stdout",
          "text": [
            "{\n",
            "  \"lucked_info\": [\n",
            "    {\"lucked_info\": \"赤ちゃんの健康状態\", \"topic_confidence\": 0.7},\n",
            "    {\"lucked_info\": \"赤ちゃんの日中の活動量\", \"topic_confidence\": 0.6},\n",
            "    {\"lucked_info\": \"赤ちゃんの食事内容\", \"topic_confidence\": 0.5}\n",
            "  ]\n",
            "}\n"
          ]
        }
      ]
    },
    {
      "cell_type": "code",
      "source": [
        "system_prompt = \"\"\"\n",
        "## 回答ルール\n",
        "- ユーザーが提供する文章から不足してる情報を３つ答えてください。回答は文章形式でしてください。\n",
        "- 不足している情報の信頼度を答えてください。信頼度は０から１の間の数字で答えてください。０が最も信頼度が低く、１が最も信頼度が高いです。\n",
        "- 不足している情報は配列形式とし、３つ答えてください。不足している情報は配列としてください。\n",
        "- 回答はPython辞書形式としてください。キーを不足している情報、バリューを信頼度としてください。\n",
        "\"\"\""
      ],
      "metadata": {
        "id": "kG9_uAImGOVs"
      },
      "execution_count": null,
      "outputs": []
    },
    {
      "cell_type": "code",
      "source": [
        "response = openai.chat.completions.create(\n",
        "    model=\"gpt-3.5-turbo\",\n",
        "    temperature=0.5,\n",
        "    messages=[\n",
        "        {\"role\": \"system\", \"content\": system_prompt},\n",
        "        {\"role\": \"user\", \"content\": question},\n",
        "    ],\n",
        "\n",
        "\n",
        ")"
      ],
      "metadata": {
        "id": "aKlZYPYIJnwS"
      },
      "execution_count": null,
      "outputs": []
    },
    {
      "cell_type": "code",
      "source": [
        "answer = response.choices[0].message.content\n",
        "print(answer)"
      ],
      "metadata": {
        "colab": {
          "base_uri": "https://localhost:8080/"
        },
        "id": "oBNpP740KOGr",
        "outputId": "466e7243-ad30-4df9-f14e-4183fca1bb33"
      },
      "execution_count": null,
      "outputs": [
        {
          "output_type": "stream",
          "name": "stdout",
          "text": [
            "{\n",
            "    \"赤ちゃんの性別\": 0.5,\n",
            "    \"日中の様子\": 0.6,\n",
            "    \"授乳の頻度\": 0.7\n",
            "}\n"
          ]
        }
      ]
    },
    {
      "cell_type": "code",
      "source": [],
      "metadata": {
        "id": "gwHfEindKQUq"
      },
      "execution_count": null,
      "outputs": []
    }
  ]
}